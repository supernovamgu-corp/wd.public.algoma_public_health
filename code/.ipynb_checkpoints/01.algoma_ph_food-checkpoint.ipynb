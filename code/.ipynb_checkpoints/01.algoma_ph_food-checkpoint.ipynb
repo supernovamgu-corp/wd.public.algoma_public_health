{
 "cells": [
  {
   "cell_type": "code",
   "execution_count": 18,
   "id": "abb19bd7",
   "metadata": {},
   "outputs": [],
   "source": [
    "#import necessary packages\n",
    "import platform\n",
    "import os\n",
    "import sys\n",
    "#if needed please install py-cpuinfo package, it is to determine whether you have M1 or Intel CPU\n",
    "#install with !pip install py-cpuinfo\n",
    "import cpuinfo\n",
    "\n",
    "#webdrivers\n",
    "\n",
    "#web parser\n",
    "\n",
    "#for managing the data\n"
   ]
  },
  {
   "cell_type": "code",
   "execution_count": 22,
   "id": "2027924c",
   "metadata": {},
   "outputs": [],
   "source": [
    "#configuration to setup to use the right webdriver\n",
    "system_ver = platform.system()\n",
    "cpudata = cpuinfo.get_cpu_info()['brand_raw']\n",
    "cpuname = cpudata.split(\" \")[1][0]"
   ]
  },
  {
   "cell_type": "code",
   "execution_count": 30,
   "id": "1b53c340",
   "metadata": {},
   "outputs": [
    {
     "name": "stdout",
     "output_type": "stream",
     "text": [
      "your webdriver is located at,  ../driver/osx_m/chromedriver\n"
     ]
    }
   ],
   "source": [
    "#determine webdriver to use depending on the system it is currently running\n",
    "if system_ver == \"Windows\":\n",
    "    #case of windows\n",
    "    webdriver_path = \"../driver/win/chromedriver.exe\"\n",
    "elif system_ver == \"Darwin\":\n",
    "    #case of OSX M processor\n",
    "    if cpuname == \"M\":\n",
    "        webdriver_path = \"../driver/osx_m/chromedriver\"\n",
    "    #case of Intel processor\n",
    "    else:\n",
    "        webdriver_path = \"../driver/osx_intel/chromedriver\"\n",
    "print(\"your webdriver is located at, \" , webdriver_path)"
   ]
  },
  {
   "cell_type": "code",
   "execution_count": null,
   "id": "9bd62bb4",
   "metadata": {},
   "outputs": [],
   "source": []
  },
  {
   "cell_type": "code",
   "execution_count": null,
   "id": "7432bb69",
   "metadata": {},
   "outputs": [],
   "source": []
  },
  {
   "cell_type": "code",
   "execution_count": null,
   "id": "081ab28f",
   "metadata": {},
   "outputs": [],
   "source": []
  },
  {
   "cell_type": "code",
   "execution_count": null,
   "id": "579c73ea",
   "metadata": {},
   "outputs": [],
   "source": []
  },
  {
   "cell_type": "code",
   "execution_count": null,
   "id": "cd5c6097",
   "metadata": {},
   "outputs": [],
   "source": []
  }
 ],
 "metadata": {
  "kernelspec": {
   "display_name": "Python 3 (ipykernel)",
   "language": "python",
   "name": "python3"
  },
  "language_info": {
   "codemirror_mode": {
    "name": "ipython",
    "version": 3
   },
   "file_extension": ".py",
   "mimetype": "text/x-python",
   "name": "python",
   "nbconvert_exporter": "python",
   "pygments_lexer": "ipython3",
   "version": "3.9.12"
  }
 },
 "nbformat": 4,
 "nbformat_minor": 5
}
